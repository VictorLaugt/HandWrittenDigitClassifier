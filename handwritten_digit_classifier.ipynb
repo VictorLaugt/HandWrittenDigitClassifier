{
 "cells": [
  {
   "cell_type": "code",
   "execution_count": null,
   "metadata": {},
   "outputs": [],
   "source": [
    "from pathlib import Path\n",
    "import data\n",
    "\n",
    "import torch\n",
    "from torch.utils.data import Dataset\n",
    "from sklearn.metrics import accuracy_score, ConfusionMatrixDisplay\n",
    "\n",
    "import matplotlib.pyplot as plt"
   ]
  },
  {
   "cell_type": "code",
   "execution_count": null,
   "metadata": {},
   "outputs": [],
   "source": [
    "# --- Extract data from local files\n",
    "\n",
    "n = 10000\n",
    "data_path = Path('.', 'MNIST')\n",
    "\n",
    "x_train, y_train = data.get_train_data(data_path, n)\n",
    "x_test, y_test = data.get_test_data(data_path, n)\n",
    "x_train_img = x_train.reshape(n, 1, 28, 28)\n",
    "x_test_img = x_test.reshape(n, 1, 28, 28)\n",
    "\n",
    "data.show_sample(x_train_img, y_train, 10)"
   ]
  },
  {
   "cell_type": "code",
   "execution_count": null,
   "metadata": {},
   "outputs": [],
   "source": [
    "# --- Standardize the data\n",
    "\n",
    "def standardized(data):\n",
    "    return (data - data.mean()) / data.std()\n",
    "\n",
    "x_train = standardized(x_train)\n",
    "x_test = standardized(x_test)\n",
    "x_train_img = standardized(x_train_img)\n",
    "x_test_img = standardized(x_test_img)"
   ]
  },
  {
   "cell_type": "code",
   "execution_count": null,
   "metadata": {},
   "outputs": [],
   "source": [
    "# --- Create the model\n",
    "\n",
    "# import mlp_classifier\n",
    "# model = mlp_classifier.FullyConnectedClassifier()\n",
    "\n",
    "import cnn_classifier\n",
    "model = cnn_classifier.ConvolutionalClassifier()"
   ]
  },
  {
   "cell_type": "code",
   "execution_count": null,
   "metadata": {},
   "outputs": [],
   "source": [
    "# --- Test the model before training\n",
    "\n",
    "with torch.no_grad():\n",
    "    # y_test_pred = model(x_test).argmax(dim=1)\n",
    "    y_test_pred = model(x_test_img).argmax(dim=1)\n",
    "\n",
    "accuracy = accuracy_score(y_test, y_test_pred)\n",
    "print(f\"{accuracy = }\")\n",
    "\n",
    "ConfusionMatrixDisplay.from_predictions(y_test, y_test_pred)"
   ]
  },
  {
   "cell_type": "code",
   "execution_count": null,
   "metadata": {},
   "outputs": [],
   "source": [
    "# --- Train the model\n",
    "\n",
    "class TrainData(Dataset):\n",
    "    def __init__(self, x_train, y_train):\n",
    "        assert x_train.size(0) == y_train.size(0)\n",
    "        self.x_train = x_train\n",
    "        self.y_train = y_train\n",
    "\n",
    "    def __len__(self):\n",
    "        return self.x_train.size(0)\n",
    "\n",
    "    def __getitem__(self, idx):\n",
    "        return self.x_train[idx], self.y_train[idx]\n",
    "\n",
    "# epoch_values, loss_values = mlp_classifier.train(\n",
    "#     model,\n",
    "#     TrainData(x_train, y_train),\n",
    "#     nb_epochs=100,\n",
    "#     batch_size=64,\n",
    "#     learning_rate=0.01\n",
    "# )\n",
    "\n",
    "epoch_values, loss_values = cnn_classifier.train(\n",
    "    model,\n",
    "    TrainData(x_train_img, y_train),\n",
    "    nb_epochs=100,\n",
    "    batch_size=64,\n",
    "    learning_rate=0.01\n",
    ")\n",
    "\n",
    "\n",
    "plt.title(\"Loss over epochs\")\n",
    "plt.plot(epoch_values, loss_values)\n",
    "plt.grid()\n",
    "plt.xlabel(\"Epoch\")\n",
    "plt.ylabel(\"Loss\")\n",
    "plt.show()"
   ]
  },
  {
   "cell_type": "code",
   "execution_count": null,
   "metadata": {},
   "outputs": [],
   "source": [
    "# --- Test the model after training\n",
    "\n",
    "with torch.no_grad():\n",
    "    # y_test_pred = model(x_test).argmax(dim=1)\n",
    "    y_test_pred = model(x_test_img).argmax(dim=1)\n",
    "\n",
    "accuracy = accuracy_score(y_test, y_test_pred)\n",
    "print(f\"{accuracy = }\")\n",
    "\n",
    "ConfusionMatrixDisplay.from_predictions(y_test, y_test_pred)"
   ]
  }
 ],
 "metadata": {
  "kernelspec": {
   "display_name": "machine-learning",
   "language": "python",
   "name": "python3"
  },
  "language_info": {
   "codemirror_mode": {
    "name": "ipython",
    "version": 3
   },
   "file_extension": ".py",
   "mimetype": "text/x-python",
   "name": "python",
   "nbconvert_exporter": "python",
   "pygments_lexer": "ipython3",
   "version": "3.11.8"
  }
 },
 "nbformat": 4,
 "nbformat_minor": 2
}
